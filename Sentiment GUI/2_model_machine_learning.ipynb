{
 "cells": [
  {
   "cell_type": "markdown",
   "metadata": {},
   "source": [
    "Lựa chọn thuật toán phù hợp trong “Machine Learning\n",
    "with Python”   \n",
    "(chọn ít nhất 3 thuật toán để thực hiện và\n",
    "đánh giá )"
   ]
  },
  {
   "cell_type": "code",
   "execution_count": 110,
   "metadata": {},
   "outputs": [],
   "source": [
    "#import thư viện\n",
    "import numpy as np\n",
    "import pandas as pd\n",
    "import string\n",
    "from sklearn.model_selection import train_test_split\n",
    "from sklearn.feature_extraction.text import TfidfVectorizer\n",
    "from sklearn.linear_model import LogisticRegression\n",
    "from sklearn.svm import SVC\n",
    "from sklearn.naive_bayes import MultinomialNB\n",
    "from sklearn.metrics import classification_report, accuracy_score\n",
    "from sklearn.neighbors import KNeighborsClassifier\n",
    "from sklearn.tree import DecisionTreeClassifier\n",
    "import timeit\n",
    "import matplotlib.pyplot as plt\n",
    "import seaborn as sns\n"
   ]
  },
  {
   "cell_type": "code",
   "execution_count": 48,
   "metadata": {},
   "outputs": [],
   "source": [
    "#đọc dữ liệu\n",
    "df1 =pd.read_csv('Danh_gia_cleaned_updated.csv')"
   ]
  },
  {
   "cell_type": "code",
   "execution_count": 49,
   "metadata": {},
   "outputs": [
    {
     "name": "stdout",
     "output_type": "stream",
     "text": [
      "ma_khach_hang            0\n",
      "noi_dung_binh_luan       0\n",
      "ngay_binh_luan           0\n",
      "gio_binh_luan            0\n",
      "so_sao                   0\n",
      "ma_san_pham              0\n",
      "content_new           1691\n",
      "dtype: int64\n"
     ]
    }
   ],
   "source": [
    "# kiểm tra dữ liệu bị thiếu\n",
    "print(df1.isnull().sum())"
   ]
  },
  {
   "cell_type": "code",
   "execution_count": 50,
   "metadata": {},
   "outputs": [],
   "source": [
    "# thay thế giá trị thiếu bằng chuỗi rỗng\n",
    "df1['content_new']=df1['content_new'].fillna('')\n"
   ]
  },
  {
   "cell_type": "code",
   "execution_count": 51,
   "metadata": {},
   "outputs": [
    {
     "name": "stdout",
     "output_type": "stream",
     "text": [
      "<class 'pandas.core.frame.DataFrame'>\n",
      "RangeIndex: 20674 entries, 0 to 20673\n",
      "Data columns (total 7 columns):\n",
      " #   Column              Non-Null Count  Dtype \n",
      "---  ------              --------------  ----- \n",
      " 0   ma_khach_hang       20674 non-null  int64 \n",
      " 1   noi_dung_binh_luan  20674 non-null  object\n",
      " 2   ngay_binh_luan      20674 non-null  object\n",
      " 3   gio_binh_luan       20674 non-null  object\n",
      " 4   so_sao              20674 non-null  int64 \n",
      " 5   ma_san_pham         20674 non-null  int64 \n",
      " 6   content_new         20674 non-null  object\n",
      "dtypes: int64(3), object(4)\n",
      "memory usage: 1.1+ MB\n"
     ]
    }
   ],
   "source": [
    "df1.info()"
   ]
  },
  {
   "cell_type": "code",
   "execution_count": 52,
   "metadata": {},
   "outputs": [
    {
     "data": {
      "text/html": [
       "<div>\n",
       "<style scoped>\n",
       "    .dataframe tbody tr th:only-of-type {\n",
       "        vertical-align: middle;\n",
       "    }\n",
       "\n",
       "    .dataframe tbody tr th {\n",
       "        vertical-align: top;\n",
       "    }\n",
       "\n",
       "    .dataframe thead th {\n",
       "        text-align: right;\n",
       "    }\n",
       "</style>\n",
       "<table border=\"1\" class=\"dataframe\">\n",
       "  <thead>\n",
       "    <tr style=\"text-align: right;\">\n",
       "      <th></th>\n",
       "      <th>ma_khach_hang</th>\n",
       "      <th>noi_dung_binh_luan</th>\n",
       "      <th>ngay_binh_luan</th>\n",
       "      <th>gio_binh_luan</th>\n",
       "      <th>so_sao</th>\n",
       "      <th>ma_san_pham</th>\n",
       "      <th>content_new</th>\n",
       "    </tr>\n",
       "  </thead>\n",
       "  <tbody>\n",
       "    <tr>\n",
       "      <th>0</th>\n",
       "      <td>443</td>\n",
       "      <td>SỬ DỤNG DỄ DÀNG, RẤT THOẢI MÁI, THƯ GIÃN TỘT ĐỘ.</td>\n",
       "      <td>29/04/2023</td>\n",
       "      <td>17:06</td>\n",
       "      <td>5</td>\n",
       "      <td>308500015</td>\n",
       "      <td>dễ_dàng thoải_mái</td>\n",
       "    </tr>\n",
       "    <tr>\n",
       "      <th>1</th>\n",
       "      <td>1030</td>\n",
       "      <td>Sử dụng dễ dãng,rất thoải mái,thư giãn tột độ</td>\n",
       "      <td>30/04/2023</td>\n",
       "      <td>15:04</td>\n",
       "      <td>5</td>\n",
       "      <td>308500015</td>\n",
       "      <td>dễ_dàng thoải_mái</td>\n",
       "    </tr>\n",
       "    <tr>\n",
       "      <th>2</th>\n",
       "      <td>689</td>\n",
       "      <td>Mình rất thích hasaki va sp tẩy trang này</td>\n",
       "      <td>30/04/2023</td>\n",
       "      <td>18:34</td>\n",
       "      <td>5</td>\n",
       "      <td>422216594</td>\n",
       "      <td>thích hasaki_tẩy</td>\n",
       "    </tr>\n",
       "    <tr>\n",
       "      <th>3</th>\n",
       "      <td>2519</td>\n",
       "      <td>Sản phẩm có khả năng làm sạch tốt. Lớp trang đ...</td>\n",
       "      <td>17/07/2022</td>\n",
       "      <td>13:48</td>\n",
       "      <td>5</td>\n",
       "      <td>204100075</td>\n",
       "      <td>sạch tốt loại_bỏ bẩn dầu_thừa kích_ứng sạch mà...</td>\n",
       "    </tr>\n",
       "    <tr>\n",
       "      <th>4</th>\n",
       "      <td>402</td>\n",
       "      <td>Sữa rửa mặt tốt,sạch mụn,mịn da,đáng mua nha</td>\n",
       "      <td>15/04/2023</td>\n",
       "      <td>23:04</td>\n",
       "      <td>5</td>\n",
       "      <td>422208977</td>\n",
       "      <td>rửa tốt sạch mịn</td>\n",
       "    </tr>\n",
       "    <tr>\n",
       "      <th>5</th>\n",
       "      <td>2517</td>\n",
       "      <td>Sau 77 49 dòng srm, thì chân ái là đây, mua tu...</td>\n",
       "      <td>25/12/2022</td>\n",
       "      <td>17:11</td>\n",
       "      <td>5</td>\n",
       "      <td>204100019</td>\n",
       "      <td>chân_ái thử khô khô nổi</td>\n",
       "    </tr>\n",
       "    <tr>\n",
       "      <th>6</th>\n",
       "      <td>1750</td>\n",
       "      <td>Đó giờ mình sài bha của obagi cũng 3-4 chai rồ...</td>\n",
       "      <td>9/7/2022</td>\n",
       "      <td>4:34</td>\n",
       "      <td>5</td>\n",
       "      <td>100220035</td>\n",
       "      <td>xài đổi kèm tặng trừ</td>\n",
       "    </tr>\n",
       "    <tr>\n",
       "      <th>7</th>\n",
       "      <td>3394</td>\n",
       "      <td>Rất ok mình xài 2 chai rồi</td>\n",
       "      <td>7/7/2022</td>\n",
       "      <td>11:18</td>\n",
       "      <td>5</td>\n",
       "      <td>204100024</td>\n",
       "      <td>đồng_ý xài</td>\n",
       "    </tr>\n",
       "    <tr>\n",
       "      <th>8</th>\n",
       "      <td>1817</td>\n",
       "      <td>Mik bị kich ứng, không hợp sản phẩm, sd được 3...</td>\n",
       "      <td>5/2/2024</td>\n",
       "      <td>3:50</td>\n",
       "      <td>4</td>\n",
       "      <td>422216354</td>\n",
       "      <td>ứng không_hợp sản_phẩm</td>\n",
       "    </tr>\n",
       "    <tr>\n",
       "      <th>9</th>\n",
       "      <td>3556</td>\n",
       "      <td>nhân viên tư vấn như mới train và được nhận vì...</td>\n",
       "      <td>12/9/2023</td>\n",
       "      <td>22:33</td>\n",
       "      <td>5</td>\n",
       "      <td>100250032</td>\n",
       "      <td>tư_vấn đẹp thôi_á dán trả_lời không_như</td>\n",
       "    </tr>\n",
       "  </tbody>\n",
       "</table>\n",
       "</div>"
      ],
      "text/plain": [
       "   ma_khach_hang                                 noi_dung_binh_luan  \\\n",
       "0            443   SỬ DỤNG DỄ DÀNG, RẤT THOẢI MÁI, THƯ GIÃN TỘT ĐỘ.   \n",
       "1           1030      Sử dụng dễ dãng,rất thoải mái,thư giãn tột độ   \n",
       "2            689          Mình rất thích hasaki va sp tẩy trang này   \n",
       "3           2519  Sản phẩm có khả năng làm sạch tốt. Lớp trang đ...   \n",
       "4            402       Sữa rửa mặt tốt,sạch mụn,mịn da,đáng mua nha   \n",
       "5           2517  Sau 77 49 dòng srm, thì chân ái là đây, mua tu...   \n",
       "6           1750  Đó giờ mình sài bha của obagi cũng 3-4 chai rồ...   \n",
       "7           3394                         Rất ok mình xài 2 chai rồi   \n",
       "8           1817  Mik bị kich ứng, không hợp sản phẩm, sd được 3...   \n",
       "9           3556  nhân viên tư vấn như mới train và được nhận vì...   \n",
       "\n",
       "  ngay_binh_luan gio_binh_luan  so_sao  ma_san_pham  \\\n",
       "0     29/04/2023         17:06       5    308500015   \n",
       "1     30/04/2023         15:04       5    308500015   \n",
       "2     30/04/2023         18:34       5    422216594   \n",
       "3     17/07/2022         13:48       5    204100075   \n",
       "4     15/04/2023         23:04       5    422208977   \n",
       "5     25/12/2022         17:11       5    204100019   \n",
       "6       9/7/2022          4:34       5    100220035   \n",
       "7       7/7/2022         11:18       5    204100024   \n",
       "8       5/2/2024          3:50       4    422216354   \n",
       "9      12/9/2023         22:33       5    100250032   \n",
       "\n",
       "                                         content_new  \n",
       "0                                  dễ_dàng thoải_mái  \n",
       "1                                  dễ_dàng thoải_mái  \n",
       "2                                   thích hasaki_tẩy  \n",
       "3  sạch tốt loại_bỏ bẩn dầu_thừa kích_ứng sạch mà...  \n",
       "4                                   rửa tốt sạch mịn  \n",
       "5                            chân_ái thử khô khô nổi  \n",
       "6                               xài đổi kèm tặng trừ  \n",
       "7                                         đồng_ý xài  \n",
       "8                             ứng không_hợp sản_phẩm  \n",
       "9            tư_vấn đẹp thôi_á dán trả_lời không_như  "
      ]
     },
     "execution_count": 52,
     "metadata": {},
     "output_type": "execute_result"
    }
   ],
   "source": [
    "#xem vài dòng\n",
    "df1.head(10)"
   ]
  },
  {
   "cell_type": "code",
   "execution_count": 53,
   "metadata": {},
   "outputs": [
    {
     "data": {
      "text/plain": [
       "count    20674.000000\n",
       "mean         4.623634\n",
       "std          0.889168\n",
       "min          1.000000\n",
       "25%          5.000000\n",
       "50%          5.000000\n",
       "75%          5.000000\n",
       "max          5.000000\n",
       "Name: so_sao, dtype: float64"
      ]
     },
     "execution_count": 53,
     "metadata": {},
     "output_type": "execute_result"
    }
   ],
   "source": [
    "# làm thống kê\n",
    "df1.so_sao.describe()"
   ]
  },
  {
   "cell_type": "markdown",
   "metadata": {},
   "source": [
    "Nhận xét: số sao từ 1 đến 5 và điểm trung bình là 4.623634, độ lệch chuẩn nhỏ"
   ]
  },
  {
   "cell_type": "code",
   "execution_count": 55,
   "metadata": {},
   "outputs": [
    {
     "data": {
      "text/plain": [
       "so_sao\n",
       "5    16506\n",
       "4     2144\n",
       "3      979\n",
       "1      544\n",
       "2      501\n",
       "Name: count, dtype: int64"
      ]
     },
     "execution_count": 55,
     "metadata": {},
     "output_type": "execute_result"
    }
   ],
   "source": [
    "df1.so_sao.value_counts()\n",
    "# điểm 1,2,3 rất là ít. các điểm 4,5 người ta khen nhiều "
   ]
  },
  {
   "cell_type": "code",
   "execution_count": 56,
   "metadata": {},
   "outputs": [],
   "source": [
    "#ta xem:1,2,3: không hài lòng và 4,5 : là hài lòng\n",
    "# nếu số sao <=3 thì bằng 0 và ngược lại\n",
    "df1['sentiment'] = np.where(df1['so_sao']<=3, 1, 0)\n"
   ]
  },
  {
   "cell_type": "code",
   "execution_count": 57,
   "metadata": {},
   "outputs": [
    {
     "data": {
      "text/html": [
       "<div>\n",
       "<style scoped>\n",
       "    .dataframe tbody tr th:only-of-type {\n",
       "        vertical-align: middle;\n",
       "    }\n",
       "\n",
       "    .dataframe tbody tr th {\n",
       "        vertical-align: top;\n",
       "    }\n",
       "\n",
       "    .dataframe thead th {\n",
       "        text-align: right;\n",
       "    }\n",
       "</style>\n",
       "<table border=\"1\" class=\"dataframe\">\n",
       "  <thead>\n",
       "    <tr style=\"text-align: right;\">\n",
       "      <th></th>\n",
       "      <th>ma_khach_hang</th>\n",
       "      <th>noi_dung_binh_luan</th>\n",
       "      <th>ngay_binh_luan</th>\n",
       "      <th>gio_binh_luan</th>\n",
       "      <th>so_sao</th>\n",
       "      <th>ma_san_pham</th>\n",
       "      <th>content_new</th>\n",
       "      <th>sentiment</th>\n",
       "    </tr>\n",
       "  </thead>\n",
       "  <tbody>\n",
       "    <tr>\n",
       "      <th>0</th>\n",
       "      <td>443</td>\n",
       "      <td>SỬ DỤNG DỄ DÀNG, RẤT THOẢI MÁI, THƯ GIÃN TỘT ĐỘ.</td>\n",
       "      <td>29/04/2023</td>\n",
       "      <td>17:06</td>\n",
       "      <td>5</td>\n",
       "      <td>308500015</td>\n",
       "      <td>dễ_dàng thoải_mái</td>\n",
       "      <td>0</td>\n",
       "    </tr>\n",
       "    <tr>\n",
       "      <th>1</th>\n",
       "      <td>1030</td>\n",
       "      <td>Sử dụng dễ dãng,rất thoải mái,thư giãn tột độ</td>\n",
       "      <td>30/04/2023</td>\n",
       "      <td>15:04</td>\n",
       "      <td>5</td>\n",
       "      <td>308500015</td>\n",
       "      <td>dễ_dàng thoải_mái</td>\n",
       "      <td>0</td>\n",
       "    </tr>\n",
       "    <tr>\n",
       "      <th>2</th>\n",
       "      <td>689</td>\n",
       "      <td>Mình rất thích hasaki va sp tẩy trang này</td>\n",
       "      <td>30/04/2023</td>\n",
       "      <td>18:34</td>\n",
       "      <td>5</td>\n",
       "      <td>422216594</td>\n",
       "      <td>thích hasaki_tẩy</td>\n",
       "      <td>0</td>\n",
       "    </tr>\n",
       "    <tr>\n",
       "      <th>3</th>\n",
       "      <td>2519</td>\n",
       "      <td>Sản phẩm có khả năng làm sạch tốt. Lớp trang đ...</td>\n",
       "      <td>17/07/2022</td>\n",
       "      <td>13:48</td>\n",
       "      <td>5</td>\n",
       "      <td>204100075</td>\n",
       "      <td>sạch tốt loại_bỏ bẩn dầu_thừa kích_ứng sạch mà...</td>\n",
       "      <td>0</td>\n",
       "    </tr>\n",
       "    <tr>\n",
       "      <th>4</th>\n",
       "      <td>402</td>\n",
       "      <td>Sữa rửa mặt tốt,sạch mụn,mịn da,đáng mua nha</td>\n",
       "      <td>15/04/2023</td>\n",
       "      <td>23:04</td>\n",
       "      <td>5</td>\n",
       "      <td>422208977</td>\n",
       "      <td>rửa tốt sạch mịn</td>\n",
       "      <td>0</td>\n",
       "    </tr>\n",
       "    <tr>\n",
       "      <th>5</th>\n",
       "      <td>2517</td>\n",
       "      <td>Sau 77 49 dòng srm, thì chân ái là đây, mua tu...</td>\n",
       "      <td>25/12/2022</td>\n",
       "      <td>17:11</td>\n",
       "      <td>5</td>\n",
       "      <td>204100019</td>\n",
       "      <td>chân_ái thử khô khô nổi</td>\n",
       "      <td>0</td>\n",
       "    </tr>\n",
       "    <tr>\n",
       "      <th>6</th>\n",
       "      <td>1750</td>\n",
       "      <td>Đó giờ mình sài bha của obagi cũng 3-4 chai rồ...</td>\n",
       "      <td>9/7/2022</td>\n",
       "      <td>4:34</td>\n",
       "      <td>5</td>\n",
       "      <td>100220035</td>\n",
       "      <td>xài đổi kèm tặng trừ</td>\n",
       "      <td>0</td>\n",
       "    </tr>\n",
       "    <tr>\n",
       "      <th>7</th>\n",
       "      <td>3394</td>\n",
       "      <td>Rất ok mình xài 2 chai rồi</td>\n",
       "      <td>7/7/2022</td>\n",
       "      <td>11:18</td>\n",
       "      <td>5</td>\n",
       "      <td>204100024</td>\n",
       "      <td>đồng_ý xài</td>\n",
       "      <td>0</td>\n",
       "    </tr>\n",
       "    <tr>\n",
       "      <th>8</th>\n",
       "      <td>1817</td>\n",
       "      <td>Mik bị kich ứng, không hợp sản phẩm, sd được 3...</td>\n",
       "      <td>5/2/2024</td>\n",
       "      <td>3:50</td>\n",
       "      <td>4</td>\n",
       "      <td>422216354</td>\n",
       "      <td>ứng không_hợp sản_phẩm</td>\n",
       "      <td>0</td>\n",
       "    </tr>\n",
       "    <tr>\n",
       "      <th>9</th>\n",
       "      <td>3556</td>\n",
       "      <td>nhân viên tư vấn như mới train và được nhận vì...</td>\n",
       "      <td>12/9/2023</td>\n",
       "      <td>22:33</td>\n",
       "      <td>5</td>\n",
       "      <td>100250032</td>\n",
       "      <td>tư_vấn đẹp thôi_á dán trả_lời không_như</td>\n",
       "      <td>0</td>\n",
       "    </tr>\n",
       "    <tr>\n",
       "      <th>10</th>\n",
       "      <td>2375</td>\n",
       "      <td>Mùi thơm dịu nhe , mát nhanh, thư giãn tột dộ</td>\n",
       "      <td>29/04/2023</td>\n",
       "      <td>16:52</td>\n",
       "      <td>5</td>\n",
       "      <td>422205163</td>\n",
       "      <td>mát</td>\n",
       "      <td>0</td>\n",
       "    </tr>\n",
       "    <tr>\n",
       "      <th>11</th>\n",
       "      <td>2027</td>\n",
       "      <td>Mình khum đánh giá cao cái vụ nâng tông trắng ...</td>\n",
       "      <td>24/10/2022</td>\n",
       "      <td>18:02</td>\n",
       "      <td>5</td>\n",
       "      <td>249500019</td>\n",
       "      <td>khum nâng trắng lắm chỉnh chống làm_lót phê_hợ...</td>\n",
       "      <td>0</td>\n",
       "    </tr>\n",
       "    <tr>\n",
       "      <th>12</th>\n",
       "      <td>2928</td>\n",
       "      <td>dù là hay được so sánh với BNBG nhma mình thấy...</td>\n",
       "      <td>27/03/2024</td>\n",
       "      <td>22:14</td>\n",
       "      <td>5</td>\n",
       "      <td>422209718</td>\n",
       "      <td>khô sánh nhma lừa tốt_trọng tầm_giá thoải_mái</td>\n",
       "      <td>0</td>\n",
       "    </tr>\n",
       "    <tr>\n",
       "      <th>13</th>\n",
       "      <td>3059</td>\n",
       "      <td>Miếng bông quá mỏng. thấm có chút nước tẩy tra...</td>\n",
       "      <td>19/12/2020</td>\n",
       "      <td>7:52</td>\n",
       "      <td>2</td>\n",
       "      <td>413400001</td>\n",
       "      <td>mỏng thấm tẩy nhũn liền tưa đáp_ứng tốt</td>\n",
       "      <td>1</td>\n",
       "    </tr>\n",
       "    <tr>\n",
       "      <th>14</th>\n",
       "      <td>1118</td>\n",
       "      <td>Xài tốt, tẩy trang sạch, mình xài thấy thích h...</td>\n",
       "      <td>22/06/2021</td>\n",
       "      <td>9:30</td>\n",
       "      <td>5</td>\n",
       "      <td>422204884</td>\n",
       "      <td>xài sạch xài thích không_bị châm chích xài trô...</td>\n",
       "      <td>0</td>\n",
       "    </tr>\n",
       "    <tr>\n",
       "      <th>15</th>\n",
       "      <td>2273</td>\n",
       "      <td>Hơi bết và trắng quá</td>\n",
       "      <td>17/12/2022</td>\n",
       "      <td>11:20</td>\n",
       "      <td>4</td>\n",
       "      <td>422208183</td>\n",
       "      <td>hơi bết trắng</td>\n",
       "      <td>0</td>\n",
       "    </tr>\n",
       "    <tr>\n",
       "      <th>16</th>\n",
       "      <td>736</td>\n",
       "      <td>sản phẩm tốt</td>\n",
       "      <td>5/12/2022</td>\n",
       "      <td>15:52</td>\n",
       "      <td>5</td>\n",
       "      <td>100230056</td>\n",
       "      <td>tốt</td>\n",
       "      <td>0</td>\n",
       "    </tr>\n",
       "    <tr>\n",
       "      <th>17</th>\n",
       "      <td>731</td>\n",
       "      <td>Mua chai thứ 4 5 gì rồi, đúng kiểu tiền nào củ...</td>\n",
       "      <td>4/3/2023</td>\n",
       "      <td>19:08</td>\n",
       "      <td>5</td>\n",
       "      <td>100230056</td>\n",
       "      <td>xài đồng_ý hơi</td>\n",
       "      <td>0</td>\n",
       "    </tr>\n",
       "    <tr>\n",
       "      <th>18</th>\n",
       "      <td>4234</td>\n",
       "      <td>rít mặt nên đắp xomg phải lau lại rôid dùng dư...</td>\n",
       "      <td>17/07/2023</td>\n",
       "      <td>23:05</td>\n",
       "      <td>4</td>\n",
       "      <td>422205637</td>\n",
       "      <td>rít đắp mask tốt_đắp</td>\n",
       "      <td>0</td>\n",
       "    </tr>\n",
       "    <tr>\n",
       "      <th>19</th>\n",
       "      <td>2696</td>\n",
       "      <td>quá ok luôn</td>\n",
       "      <td>18/08/2019</td>\n",
       "      <td>23:21</td>\n",
       "      <td>5</td>\n",
       "      <td>422203776</td>\n",
       "      <td>đồng_ý</td>\n",
       "      <td>0</td>\n",
       "    </tr>\n",
       "  </tbody>\n",
       "</table>\n",
       "</div>"
      ],
      "text/plain": [
       "    ma_khach_hang                                 noi_dung_binh_luan  \\\n",
       "0             443   SỬ DỤNG DỄ DÀNG, RẤT THOẢI MÁI, THƯ GIÃN TỘT ĐỘ.   \n",
       "1            1030      Sử dụng dễ dãng,rất thoải mái,thư giãn tột độ   \n",
       "2             689          Mình rất thích hasaki va sp tẩy trang này   \n",
       "3            2519  Sản phẩm có khả năng làm sạch tốt. Lớp trang đ...   \n",
       "4             402       Sữa rửa mặt tốt,sạch mụn,mịn da,đáng mua nha   \n",
       "5            2517  Sau 77 49 dòng srm, thì chân ái là đây, mua tu...   \n",
       "6            1750  Đó giờ mình sài bha của obagi cũng 3-4 chai rồ...   \n",
       "7            3394                         Rất ok mình xài 2 chai rồi   \n",
       "8            1817  Mik bị kich ứng, không hợp sản phẩm, sd được 3...   \n",
       "9            3556  nhân viên tư vấn như mới train và được nhận vì...   \n",
       "10           2375      Mùi thơm dịu nhe , mát nhanh, thư giãn tột dộ   \n",
       "11           2027  Mình khum đánh giá cao cái vụ nâng tông trắng ...   \n",
       "12           2928  dù là hay được so sánh với BNBG nhma mình thấy...   \n",
       "13           3059  Miếng bông quá mỏng. thấm có chút nước tẩy tra...   \n",
       "14           1118  Xài tốt, tẩy trang sạch, mình xài thấy thích h...   \n",
       "15           2273                               Hơi bết và trắng quá   \n",
       "16            736                                       sản phẩm tốt   \n",
       "17            731  Mua chai thứ 4 5 gì rồi, đúng kiểu tiền nào củ...   \n",
       "18           4234  rít mặt nên đắp xomg phải lau lại rôid dùng dư...   \n",
       "19           2696                                        quá ok luôn   \n",
       "\n",
       "   ngay_binh_luan gio_binh_luan  so_sao  ma_san_pham  \\\n",
       "0      29/04/2023         17:06       5    308500015   \n",
       "1      30/04/2023         15:04       5    308500015   \n",
       "2      30/04/2023         18:34       5    422216594   \n",
       "3      17/07/2022         13:48       5    204100075   \n",
       "4      15/04/2023         23:04       5    422208977   \n",
       "5      25/12/2022         17:11       5    204100019   \n",
       "6        9/7/2022          4:34       5    100220035   \n",
       "7        7/7/2022         11:18       5    204100024   \n",
       "8        5/2/2024          3:50       4    422216354   \n",
       "9       12/9/2023         22:33       5    100250032   \n",
       "10     29/04/2023         16:52       5    422205163   \n",
       "11     24/10/2022         18:02       5    249500019   \n",
       "12     27/03/2024         22:14       5    422209718   \n",
       "13     19/12/2020          7:52       2    413400001   \n",
       "14     22/06/2021          9:30       5    422204884   \n",
       "15     17/12/2022         11:20       4    422208183   \n",
       "16      5/12/2022         15:52       5    100230056   \n",
       "17       4/3/2023         19:08       5    100230056   \n",
       "18     17/07/2023         23:05       4    422205637   \n",
       "19     18/08/2019         23:21       5    422203776   \n",
       "\n",
       "                                          content_new  sentiment  \n",
       "0                                   dễ_dàng thoải_mái          0  \n",
       "1                                   dễ_dàng thoải_mái          0  \n",
       "2                                    thích hasaki_tẩy          0  \n",
       "3   sạch tốt loại_bỏ bẩn dầu_thừa kích_ứng sạch mà...          0  \n",
       "4                                    rửa tốt sạch mịn          0  \n",
       "5                             chân_ái thử khô khô nổi          0  \n",
       "6                                xài đổi kèm tặng trừ          0  \n",
       "7                                          đồng_ý xài          0  \n",
       "8                              ứng không_hợp sản_phẩm          0  \n",
       "9             tư_vấn đẹp thôi_á dán trả_lời không_như          0  \n",
       "10                                                mát          0  \n",
       "11  khum nâng trắng lắm chỉnh chống làm_lót phê_hợ...          0  \n",
       "12      khô sánh nhma lừa tốt_trọng tầm_giá thoải_mái          0  \n",
       "13            mỏng thấm tẩy nhũn liền tưa đáp_ứng tốt          1  \n",
       "14  xài sạch xài thích không_bị châm chích xài trô...          0  \n",
       "15                                      hơi bết trắng          0  \n",
       "16                                                tốt          0  \n",
       "17                                     xài đồng_ý hơi          0  \n",
       "18                               rít đắp mask tốt_đắp          0  \n",
       "19                                             đồng_ý          0  "
      ]
     },
     "execution_count": 57,
     "metadata": {},
     "output_type": "execute_result"
    }
   ],
   "source": [
    "# xem lại dữ liệu vài dòng đầu tiên \n",
    "df1.head(20)"
   ]
  },
  {
   "cell_type": "code",
   "execution_count": 58,
   "metadata": {},
   "outputs": [
    {
     "data": {
      "text/html": [
       "<div>\n",
       "<style scoped>\n",
       "    .dataframe tbody tr th:only-of-type {\n",
       "        vertical-align: middle;\n",
       "    }\n",
       "\n",
       "    .dataframe tbody tr th {\n",
       "        vertical-align: top;\n",
       "    }\n",
       "\n",
       "    .dataframe thead th {\n",
       "        text-align: right;\n",
       "    }\n",
       "</style>\n",
       "<table border=\"1\" class=\"dataframe\">\n",
       "  <thead>\n",
       "    <tr style=\"text-align: right;\">\n",
       "      <th></th>\n",
       "      <th>ma_khach_hang</th>\n",
       "      <th>noi_dung_binh_luan</th>\n",
       "      <th>ngay_binh_luan</th>\n",
       "      <th>gio_binh_luan</th>\n",
       "      <th>so_sao</th>\n",
       "      <th>ma_san_pham</th>\n",
       "      <th>content_new</th>\n",
       "      <th>sentiment</th>\n",
       "    </tr>\n",
       "  </thead>\n",
       "  <tbody>\n",
       "    <tr>\n",
       "      <th>36</th>\n",
       "      <td>2723</td>\n",
       "      <td>Dạng sữa thắm hơi lâu và rất rất rất là cay lu...</td>\n",
       "      <td>9/6/2023</td>\n",
       "      <td>13:34</td>\n",
       "      <td>3</td>\n",
       "      <td>248700035</td>\n",
       "      <td>thắm hơi rửa xài</td>\n",
       "      <td>1</td>\n",
       "    </tr>\n",
       "    <tr>\n",
       "      <th>53</th>\n",
       "      <td>2528</td>\n",
       "      <td>sản phẩm cho da dầu thôi, dầu mụn nên cân nhắc...</td>\n",
       "      <td>15/07/2021</td>\n",
       "      <td>8:34</td>\n",
       "      <td>3</td>\n",
       "      <td>343700002</td>\n",
       "      <td>mụn cân_nhắc chăm_sóc mụn bôi lâu_thấm bôi mỏn...</td>\n",
       "      <td>1</td>\n",
       "    </tr>\n",
       "    <tr>\n",
       "      <th>69</th>\n",
       "      <td>1370</td>\n",
       "      <td>cấp ẩm ổn, những vết thâm mới thì làm mờ tốt, ...</td>\n",
       "      <td>15/04/2023</td>\n",
       "      <td>16:18</td>\n",
       "      <td>3</td>\n",
       "      <td>318900002</td>\n",
       "      <td>ẩm_ổn thâm mờ tốt cũ mờ</td>\n",
       "      <td>1</td>\n",
       "    </tr>\n",
       "    <tr>\n",
       "      <th>86</th>\n",
       "      <td>1394</td>\n",
       "      <td>Mình da dầu mụn, mới mua xài thấy mát nhẹ mặt,...</td>\n",
       "      <td>5/10/2021</td>\n",
       "      <td>12:11</td>\n",
       "      <td>3</td>\n",
       "      <td>422200305</td>\n",
       "      <td>mụn xài mát nhẹ</td>\n",
       "      <td>1</td>\n",
       "    </tr>\n",
       "    <tr>\n",
       "      <th>104</th>\n",
       "      <td>1453</td>\n",
       "      <td>Mình da dầu. Srm rửa sạch sâu quá khô 2 bênh c...</td>\n",
       "      <td>20/08/2022</td>\n",
       "      <td>11:48</td>\n",
       "      <td>3</td>\n",
       "      <td>204900159</td>\n",
       "      <td>rửa sạch sâu khô_bênh cánh nguyên căng</td>\n",
       "      <td>1</td>\n",
       "    </tr>\n",
       "    <tr>\n",
       "      <th>...</th>\n",
       "      <td>...</td>\n",
       "      <td>...</td>\n",
       "      <td>...</td>\n",
       "      <td>...</td>\n",
       "      <td>...</td>\n",
       "      <td>...</td>\n",
       "      <td>...</td>\n",
       "      <td>...</td>\n",
       "    </tr>\n",
       "    <tr>\n",
       "      <th>20617</th>\n",
       "      <td>218</td>\n",
       "      <td>Tạm, bôi lên bết rích khó chịu cực kì, phân kh...</td>\n",
       "      <td>29/03/2022</td>\n",
       "      <td>16:11</td>\n",
       "      <td>3</td>\n",
       "      <td>422216990</td>\n",
       "      <td>tạm bôi cực_kì rẻ</td>\n",
       "      <td>1</td>\n",
       "    </tr>\n",
       "    <tr>\n",
       "      <th>20631</th>\n",
       "      <td>1081</td>\n",
       "      <td>Lần đầu tiên xài nước tẩy trang , kem chống nắ...</td>\n",
       "      <td>1/7/2022</td>\n",
       "      <td>19:49</td>\n",
       "      <td>3</td>\n",
       "      <td>422204904</td>\n",
       "      <td>xài tẩy chống hải_cái kích_ứng</td>\n",
       "      <td>1</td>\n",
       "    </tr>\n",
       "    <tr>\n",
       "      <th>20634</th>\n",
       "      <td>1310</td>\n",
       "      <td>Kem rất bết rích, cảm giác nặng mặt, tán khó, ...</td>\n",
       "      <td>25/03/2022</td>\n",
       "      <td>11:52</td>\n",
       "      <td>3</td>\n",
       "      <td>100160021</td>\n",
       "      <td>bết_rích mặt_tán đặc mặc_dù</td>\n",
       "      <td>1</td>\n",
       "    </tr>\n",
       "    <tr>\n",
       "      <th>20643</th>\n",
       "      <td>4145</td>\n",
       "      <td>Không có gì đáng phàn nàn, sản phẩm phù hợp vớ...</td>\n",
       "      <td>9/2/2022</td>\n",
       "      <td>8:49</td>\n",
       "      <td>3</td>\n",
       "      <td>422205163</td>\n",
       "      <td>phàn_nàn sản_phẩm</td>\n",
       "      <td>1</td>\n",
       "    </tr>\n",
       "    <tr>\n",
       "      <th>20653</th>\n",
       "      <td>1818</td>\n",
       "      <td>Sản phẩm dùng ổn, không có gì để chê nhiều, đủ...</td>\n",
       "      <td>17/04/2024</td>\n",
       "      <td>16:09</td>\n",
       "      <td>3</td>\n",
       "      <td>422216098</td>\n",
       "      <td>ổn chê</td>\n",
       "      <td>1</td>\n",
       "    </tr>\n",
       "  </tbody>\n",
       "</table>\n",
       "<p>979 rows × 8 columns</p>\n",
       "</div>"
      ],
      "text/plain": [
       "       ma_khach_hang                                 noi_dung_binh_luan  \\\n",
       "36              2723  Dạng sữa thắm hơi lâu và rất rất rất là cay lu...   \n",
       "53              2528  sản phẩm cho da dầu thôi, dầu mụn nên cân nhắc...   \n",
       "69              1370  cấp ẩm ổn, những vết thâm mới thì làm mờ tốt, ...   \n",
       "86              1394  Mình da dầu mụn, mới mua xài thấy mát nhẹ mặt,...   \n",
       "104             1453  Mình da dầu. Srm rửa sạch sâu quá khô 2 bênh c...   \n",
       "...              ...                                                ...   \n",
       "20617            218  Tạm, bôi lên bết rích khó chịu cực kì, phân kh...   \n",
       "20631           1081  Lần đầu tiên xài nước tẩy trang , kem chống nắ...   \n",
       "20634           1310  Kem rất bết rích, cảm giác nặng mặt, tán khó, ...   \n",
       "20643           4145  Không có gì đáng phàn nàn, sản phẩm phù hợp vớ...   \n",
       "20653           1818  Sản phẩm dùng ổn, không có gì để chê nhiều, đủ...   \n",
       "\n",
       "      ngay_binh_luan gio_binh_luan  so_sao  ma_san_pham  \\\n",
       "36          9/6/2023         13:34       3    248700035   \n",
       "53        15/07/2021          8:34       3    343700002   \n",
       "69        15/04/2023         16:18       3    318900002   \n",
       "86         5/10/2021         12:11       3    422200305   \n",
       "104       20/08/2022         11:48       3    204900159   \n",
       "...              ...           ...     ...          ...   \n",
       "20617     29/03/2022         16:11       3    422216990   \n",
       "20631       1/7/2022         19:49       3    422204904   \n",
       "20634     25/03/2022         11:52       3    100160021   \n",
       "20643       9/2/2022          8:49       3    422205163   \n",
       "20653     17/04/2024         16:09       3    422216098   \n",
       "\n",
       "                                             content_new  sentiment  \n",
       "36                                      thắm hơi rửa xài          1  \n",
       "53     mụn cân_nhắc chăm_sóc mụn bôi lâu_thấm bôi mỏn...          1  \n",
       "69                               ẩm_ổn thâm mờ tốt cũ mờ          1  \n",
       "86                                       mụn xài mát nhẹ          1  \n",
       "104               rửa sạch sâu khô_bênh cánh nguyên căng          1  \n",
       "...                                                  ...        ...  \n",
       "20617                                  tạm bôi cực_kì rẻ          1  \n",
       "20631                     xài tẩy chống hải_cái kích_ứng          1  \n",
       "20634                        bết_rích mặt_tán đặc mặc_dù          1  \n",
       "20643                                  phàn_nàn sản_phẩm          1  \n",
       "20653                                             ổn chê          1  \n",
       "\n",
       "[979 rows x 8 columns]"
      ]
     },
     "execution_count": 58,
     "metadata": {},
     "output_type": "execute_result"
    }
   ],
   "source": [
    "df1[df1['so_sao']==3]"
   ]
  },
  {
   "cell_type": "code",
   "execution_count": 59,
   "metadata": {},
   "outputs": [
    {
     "data": {
      "text/plain": [
       "sentiment\n",
       "0    18650\n",
       "1     2024\n",
       "Name: count, dtype: int64"
      ]
     },
     "execution_count": 59,
     "metadata": {},
     "output_type": "execute_result"
    }
   ],
   "source": [
    "df1['sentiment'].value_counts()"
   ]
  },
  {
   "cell_type": "markdown",
   "metadata": {},
   "source": [
    "# Nhận xét:Dữ liệu có khả năng mất cân bằng  \n",
    "Đánh giá tích cực là: 18650  \n",
    "Đánh giá không tốt là: 2024"
   ]
  },
  {
   "cell_type": "code",
   "execution_count": 61,
   "metadata": {},
   "outputs": [],
   "source": [
    "# Tách dữ liệu thành đầu vào (X) và nhãn (y)\n",
    "X = df1['content_new']\n",
    "y = df1['sentiment']"
   ]
  },
  {
   "cell_type": "code",
   "execution_count": 62,
   "metadata": {},
   "outputs": [],
   "source": [
    "# Chia dữ liệu thành tập huấn luyện và kiểm tra\n",
    "X_train, X_test, y_train, y_test = train_test_split(X, y, random_state=42, test_size=0.2, stratify=y)"
   ]
  },
  {
   "cell_type": "code",
   "execution_count": 63,
   "metadata": {},
   "outputs": [],
   "source": [
    "# Vector hóa văn bản bằng TF-IDF\n",
    "vectorizer = TfidfVectorizer(max_features=5000) \n",
    "X_train_tfidf = vectorizer.fit_transform(X_train)\n",
    "X_test_tfidf = vectorizer.transform(X_test)"
   ]
  },
  {
   "cell_type": "code",
   "execution_count": 64,
   "metadata": {
    "tags": []
   },
   "outputs": [],
   "source": [
    "models = [LogisticRegression(),\n",
    "           MultinomialNB(),\n",
    "          SVC(probability=True),\n",
    "         KNeighborsClassifier(),\n",
    "         DecisionTreeClassifier(random_state = 2)]"
   ]
  },
  {
   "cell_type": "code",
   "execution_count": 65,
   "metadata": {
    "tags": []
   },
   "outputs": [
    {
     "name": "stdout",
     "output_type": "stream",
     "text": [
      "[0.93470375 0.93802902 0.93168077 0.93772672 0.93952223]\n",
      "[0.93530834 0.93288996 0.93228537 0.93561064 0.93317206]\n",
      "[0.96221282 0.96644498 0.95798065 0.97007255 0.96855156]\n",
      "[0.94316808 0.94709794 0.87363966 0.94891173 0.94950106]\n",
      "[0.96251511 0.96704958 0.96281741 0.97218863 0.96945872]\n"
     ]
    }
   ],
   "source": [
    "from sklearn.model_selection import cross_val_score\n",
    "CV = 5\n",
    "cv_df = pd.DataFrame(index=range(CV * len(models)))\n",
    "entries = []\n",
    "for model in models:\n",
    "    model_name = type(model).__name__\n",
    "    accuracies = cross_val_score (model, X_train_tfidf, y_train, scoring='accuracy', cv=CV) \n",
    "    print(accuracies)\n",
    "    entries.append([model_name, accuracies.mean()])\n",
    "cv_df = pd.DataFrame (entries, columns=['model_name', 'accuracy'])"
   ]
  },
  {
   "cell_type": "code",
   "execution_count": 66,
   "metadata": {
    "tags": []
   },
   "outputs": [
    {
     "data": {
      "text/html": [
       "<div>\n",
       "<style scoped>\n",
       "    .dataframe tbody tr th:only-of-type {\n",
       "        vertical-align: middle;\n",
       "    }\n",
       "\n",
       "    .dataframe tbody tr th {\n",
       "        vertical-align: top;\n",
       "    }\n",
       "\n",
       "    .dataframe thead th {\n",
       "        text-align: right;\n",
       "    }\n",
       "</style>\n",
       "<table border=\"1\" class=\"dataframe\">\n",
       "  <thead>\n",
       "    <tr style=\"text-align: right;\">\n",
       "      <th></th>\n",
       "      <th>model_name</th>\n",
       "      <th>accuracy</th>\n",
       "    </tr>\n",
       "  </thead>\n",
       "  <tbody>\n",
       "    <tr>\n",
       "      <th>4</th>\n",
       "      <td>DecisionTreeClassifier</td>\n",
       "      <td>0.966806</td>\n",
       "    </tr>\n",
       "    <tr>\n",
       "      <th>2</th>\n",
       "      <td>SVC</td>\n",
       "      <td>0.965053</td>\n",
       "    </tr>\n",
       "    <tr>\n",
       "      <th>0</th>\n",
       "      <td>LogisticRegression</td>\n",
       "      <td>0.936332</td>\n",
       "    </tr>\n",
       "    <tr>\n",
       "      <th>1</th>\n",
       "      <td>MultinomialNB</td>\n",
       "      <td>0.933853</td>\n",
       "    </tr>\n",
       "    <tr>\n",
       "      <th>3</th>\n",
       "      <td>KNeighborsClassifier</td>\n",
       "      <td>0.932464</td>\n",
       "    </tr>\n",
       "  </tbody>\n",
       "</table>\n",
       "</div>"
      ],
      "text/plain": [
       "               model_name  accuracy\n",
       "4  DecisionTreeClassifier  0.966806\n",
       "2                     SVC  0.965053\n",
       "0      LogisticRegression  0.936332\n",
       "1           MultinomialNB  0.933853\n",
       "3    KNeighborsClassifier  0.932464"
      ]
     },
     "execution_count": 66,
     "metadata": {},
     "output_type": "execute_result"
    }
   ],
   "source": [
    "cv_df.sort_values('accuracy',ascending = False)"
   ]
  },
  {
   "cell_type": "code",
   "execution_count": 80,
   "metadata": {
    "tags": []
   },
   "outputs": [],
   "source": [
    "models = {\n",
    "    'DecisionTreeClassifier': DecisionTreeClassifier(),\n",
    "    'SVC': SVC(probability=True),\n",
    "    'KNeighborsClassifier': KNeighborsClassifier()\n",
    "}\n",
    "\n",
    "params = {\n",
    "    'DecisionTreeClassifier': {\n",
    "        'criterion': ['gini', 'entropy'],  # Reduced to only 'gini' and 'entropy'\n",
    "        'max_depth': [None, 10, 20],  # Limited depth to a few values\n",
    "        'min_samples_split': [2, 5],  # Reduced to fewer values\n",
    "        'min_samples_leaf': [1, 2]  # Reduced to fewer values\n",
    "    },\n",
    "    'SVC': {\n",
    "        'C': [1, 10],  # Reduced to just two values for regularization strength\n",
    "        'kernel': ['linear', 'rbf'],  # Limited kernel types to 'linear' and 'rbf'\n",
    "        'gamma': ['scale']  # Simplified to just 'scale'\n",
    "    },\n",
    "    'KNeighborsClassifier': {\n",
    "        'n_neighbors': [5, 7],  # Reduced the number of neighbors\n",
    "        'weights': ['uniform'],  # Use only 'uniform' for simplicity\n",
    "        'metric': ['euclidean']  # Only 'euclidean' distance metric\n",
    "    }\n",
    "}\n"
   ]
  },
  {
   "cell_type": "code",
   "execution_count": 82,
   "metadata": {
    "tags": []
   },
   "outputs": [
    {
     "name": "stdout",
     "output_type": "stream",
     "text": [
      "Search for DecisionTreeClassifier ...\n",
      "Search for SVC ...\n",
      "Search for KNeighborsClassifier ...\n",
      "Search is done.\n",
      "Total running time:  219.47  s\n"
     ]
    }
   ],
   "source": [
    "start_time = timeit.default_timer()\n",
    "\n",
    "from HyperclassifierSearch import HyperclassifierSearch\n",
    "search = HyperclassifierSearch(models, params)\n",
    "best_model = search.train_model(X_train_tfidf, y_train, cv=5)\n",
    "\n",
    "end_time = timeit.default_timer()\n",
    "execution_time = round(end_time - start_time,2)\n",
    "print('Total running time: ',execution_time,' s')"
   ]
  },
  {
   "cell_type": "code",
   "execution_count": 83,
   "metadata": {
    "tags": []
   },
   "outputs": [
    {
     "name": "stdout",
     "output_type": "stream",
     "text": [
      "results round for: DecisionTreeClassifier\n",
      "results round for: SVC\n",
      "results round for: KNeighborsClassifier\n"
     ]
    }
   ],
   "source": [
    "result = search.evaluate_model()\n"
   ]
  },
  {
   "cell_type": "code",
   "execution_count": 88,
   "metadata": {
    "tags": []
   },
   "outputs": [],
   "source": [
    "result['label'] = result['Estimator'].astype(str) + result['params'].astype(str)"
   ]
  },
  {
   "cell_type": "code",
   "execution_count": 100,
   "metadata": {
    "tags": []
   },
   "outputs": [
    {
     "data": {
      "image/png": "[encoded data removed]",
      "text/plain": [
       "<Figure size 640x480 with 1 Axes>"
      ]
     },
     "metadata": {},
     "output_type": "display_data"
    }
   ],
   "source": [
    "std = result['std_test_score'].to_list()\n",
    "mean_ = result['mean_test_score'].to_list()\n",
    "x = result['label'].to_list()\n",
    "plt.title('Score with none scaled data')\n",
    "plt.errorbar(x, mean_, std, linestyle='None', marker='o',capsize=3)\n",
    "plt.ylim(0.7,1)\n",
    "plt.xticks(rotation=90, ha='right')\n",
    "plt.show()"
   ]
  },
  {
   "cell_type": "code",
   "execution_count": 113,
   "metadata": {},
   "outputs": [],
   "source": [
    "# Hàm huấn luyện và đánh giá mô hình\n",
    "def train_and_evaluate_model(model, model_name):\n",
    "    # Huấn luyện mô hình\n",
    "    model.fit\n",
    "    (X_train_tfidf, y_train)\n",
    "    # Dự đoán\n",
    "    y_pred = model.predict(X_test_tfidf)\n",
    "    # Đánh giá mô hình\n",
    "    print(f\"=== {model_name} ===\")\n",
    "    print(\"Accuracy:\", accuracy_score(y_test, y_pred))\n",
    "    print(classification_report(y_test, y_pred))"
   ]
  },
  {
   "cell_type": "code",
   "execution_count": 115,
   "metadata": {
    "tags": []
   },
   "outputs": [
    {
     "name": "stdout",
     "output_type": "stream",
     "text": [
      "=== Support Vector Machine ===\n",
      "Accuracy: 0.9734\n",
      "Precision: 0.9729\n",
      "Recall: 0.9734\n",
      "F1 Score: 0.9722\n",
      "ROC AUC Score: 0.9573\n"
     ]
    },
    {
     "data": {
      "image/png": "[encoded data removed]",
      "text/plain": [
       "<Figure size 600x500 with 2 Axes>"
      ]
     },
     "metadata": {},
     "output_type": "display_data"
    },
    {
     "name": "stdout",
     "output_type": "stream",
     "text": [
      "Classification Report:\n",
      "              precision    recall  f1-score   support\n",
      "\n",
      "           0       0.98      1.00      0.99      3730\n",
      "           1       0.95      0.77      0.85       405\n",
      "\n",
      "    accuracy                           0.97      4135\n",
      "   macro avg       0.96      0.88      0.92      4135\n",
      "weighted avg       0.97      0.97      0.97      4135\n",
      "\n",
      "Total running time for Support Vector Machine: 15.86 seconds\n",
      "\n",
      "=== Decision Tree Classifier ===\n",
      "Accuracy: 0.9703\n",
      "Precision: 0.9693\n",
      "Recall: 0.9703\n",
      "F1 Score: 0.9694\n",
      "ROC AUC Score: 0.9505\n"
     ]
    },
    {
     "data": {
      "image/png": "[encoded data removed]",
      "text/plain": [
       "<Figure size 600x500 with 2 Axes>"
      ]
     },
     "metadata": {},
     "output_type": "display_data"
    },
    {
     "name": "stdout",
     "output_type": "stream",
     "text": [
      "Classification Report:\n",
      "              precision    recall  f1-score   support\n",
      "\n",
      "           0       0.98      0.99      0.98      3730\n",
      "           1       0.90      0.79      0.84       405\n",
      "\n",
      "    accuracy                           0.97      4135\n",
      "   macro avg       0.94      0.89      0.91      4135\n",
      "weighted avg       0.97      0.97      0.97      4135\n",
      "\n",
      "Total running time for Decision Tree Classifier: 0.84 seconds\n",
      "\n",
      "=== K-Nearest Neighbors ===\n",
      "Accuracy: 0.9538\n",
      "Precision: 0.9511\n",
      "Recall: 0.9538\n",
      "F1 Score: 0.9510\n",
      "ROC AUC Score: 0.9274\n"
     ]
    },
    {
     "data": {
      "image/png": "[encoded data removed]",
      "text/plain": [
       "<Figure size 600x500 with 2 Axes>"
      ]
     },
     "metadata": {},
     "output_type": "display_data"
    },
    {
     "name": "stdout",
     "output_type": "stream",
     "text": [
      "Classification Report:\n",
      "              precision    recall  f1-score   support\n",
      "\n",
      "           0       0.96      0.99      0.97      3730\n",
      "           1       0.85      0.65      0.73       405\n",
      "\n",
      "    accuracy                           0.95      4135\n",
      "   macro avg       0.90      0.82      0.85      4135\n",
      "weighted avg       0.95      0.95      0.95      4135\n",
      "\n",
      "Total running time for K-Nearest Neighbors: 1.82 seconds\n",
      "\n",
      "                          accuracy  precision    recall  f1_score   roc_auc  \\\n",
      "model_name                                                                    \n",
      "Support Vector Machine    0.973398   0.972857  0.973398  0.972191  0.957307   \n",
      "Decision Tree Classifier  0.970254   0.969283  0.970254  0.969356  0.950548   \n",
      "K-Nearest Neighbors       0.953809   0.951111  0.953809  0.951031  0.927367   \n",
      "\n",
      "                          execution_time  Precision_class_0  \\\n",
      "model_name                                                    \n",
      "Support Vector Machine             15.86           0.975815   \n",
      "Decision Tree Classifier            0.84           0.976990   \n",
      "K-Nearest Neighbors                 1.82           0.962614   \n",
      "\n",
      "                          Precision_class_1  Recall_class_0  Recall_class_1  \n",
      "model_name                                                                   \n",
      "Support Vector Machine             0.945619        0.995174        0.772840  \n",
      "Decision Tree Classifier           0.898305        0.990349        0.785185  \n",
      "K-Nearest Neighbors                0.845161        0.987131        0.646914  \n"
     ]
    }
   ],
   "source": [
    "import pandas as pd\n",
    "import time\n",
    "from sklearn.metrics import accuracy_score, classification_report, confusion_matrix, precision_score, recall_score, f1_score, roc_auc_score\n",
    "import matplotlib.pyplot as plt\n",
    "import seaborn as sns\n",
    "from sklearn.svm import SVC\n",
    "from sklearn.tree import DecisionTreeClassifier\n",
    "from sklearn.neighbors import KNeighborsClassifier\n",
    "\n",
    "# Hàm huấn luyện và đánh giá mô hình với kết quả trả về là một dictionary\n",
    "def train_and_evaluate_model(model, model_name):\n",
    "    # Start time for the model training and evaluation\n",
    "    start_time = time.time()\n",
    "    \n",
    "    # Huấn luyện mô hình\n",
    "    model.fit(X_train_tfidf, y_train)\n",
    "    \n",
    "    # Dự đoán\n",
    "    y_pred = model.predict(X_test_tfidf)\n",
    "    \n",
    "    # Đánh giá mô hình\n",
    "    print(f\"=== {model_name} ===\")\n",
    "    \n",
    "    # Accuracy\n",
    "    accuracy = accuracy_score(y_test, y_pred)\n",
    "    print(f\"Accuracy: {accuracy:.4f}\")\n",
    "    \n",
    "    # Precision, Recall, F1-score\n",
    "    precision = precision_score(y_test, y_pred, average='weighted')\n",
    "    recall = recall_score(y_test, y_pred, average='weighted')\n",
    "    f1 = f1_score(y_test, y_pred, average='weighted')\n",
    "    print(f\"Precision: {precision:.4f}\")\n",
    "    print(f\"Recall: {recall:.4f}\")\n",
    "    print(f\"F1 Score: {f1:.4f}\")\n",
    "    \n",
    "    # ROC AUC Score (for binary classification; you can modify for multiclass)\n",
    "    if len(set(y_test)) == 2:  # Check if binary classification\n",
    "        roc_auc = roc_auc_score(y_test, model.predict_proba(X_test_tfidf)[:, 1])\n",
    "        print(f\"ROC AUC Score: {roc_auc:.4f}\")\n",
    "    else:\n",
    "        roc_auc = None\n",
    "    \n",
    "    # Confusion Matrix\n",
    "    cm = confusion_matrix(y_test, y_pred)\n",
    "    plt.figure(figsize=(6, 5))\n",
    "    sns.heatmap(cm, annot=True, fmt=\"d\", cmap=\"Blues\", xticklabels=model.classes_, yticklabels=model.classes_)\n",
    "    plt.title(f'Confusion Matrix for {model_name}')\n",
    "    plt.xlabel('Predicted Labels')\n",
    "    plt.ylabel('True Labels')\n",
    "    plt.show()\n",
    "\n",
    "    # Detailed Classification Report\n",
    "    print(\"Classification Report:\")\n",
    "    print(classification_report(y_test, y_pred))\n",
    "\n",
    "    # End time and calculate the elapsed time\n",
    "    end_time = time.time()\n",
    "    execution_time = round(end_time - start_time, 2)\n",
    "    print(f\"Total running time for {model_name}: {execution_time} seconds\\n\")\n",
    "\n",
    "    # Return the evaluation metrics for comparison, including precision/recall per class\n",
    "    class_report = classification_report(y_test, y_pred, output_dict=True)\n",
    "    precision_per_class = {f\"Precision_class_{i}\": class_report[str(i)]['precision'] for i in class_report if i.isdigit()}\n",
    "    recall_per_class = {f\"Recall_class_{i}\": class_report[str(i)]['recall'] for i in class_report if i.isdigit()}\n",
    "    \n",
    "    results = {\n",
    "        \"model_name\": model_name,\n",
    "        \"accuracy\": accuracy,\n",
    "        \"precision\": precision,\n",
    "        \"recall\": recall,\n",
    "        \"f1_score\": f1,\n",
    "        \"roc_auc\": roc_auc,\n",
    "        \"execution_time\": execution_time\n",
    "    }\n",
    "    \n",
    "    results.update(precision_per_class)\n",
    "    results.update(recall_per_class)\n",
    "    \n",
    "    return results\n",
    "\n",
    "# Create a list to store results for each model\n",
    "model_results = []\n",
    "\n",
    "# 1. Support Vector Machine (SVC)\n",
    "svc_model = SVC(C=10, gamma='scale', kernel='rbf', probability=True)\n",
    "svc_results = train_and_evaluate_model(svc_model, \"Support Vector Machine\")\n",
    "model_results.append(svc_results)\n",
    "\n",
    "# 2. Decision Tree Classifier\n",
    "decision_tree_model = DecisionTreeClassifier(criterion='gini', max_depth=None, min_samples_leaf=1, min_samples_split=2)\n",
    "decision_tree_results = train_and_evaluate_model(decision_tree_model, \"Decision Tree Classifier\")\n",
    "model_results.append(decision_tree_results)\n",
    "\n",
    "# 3. K-Nearest Neighbors (KNeighborsClassifier)\n",
    "knn_model = KNeighborsClassifier(metric='euclidean', n_neighbors=5, weights='uniform')\n",
    "knn_results = train_and_evaluate_model(knn_model, \"K-Nearest Neighbors\")\n",
    "model_results.append(knn_results)\n",
    "\n",
    "# Convert the results to a DataFrame\n",
    "results_df = pd.DataFrame(model_results)\n",
    "\n",
    "# Create a pivot table for comparison\n",
    "pivot_table = results_df.set_index('model_name')\n",
    "\n",
    "# Print the pivot table to compare the models\n",
    "print(pivot_table)\n"
   ]
  },
  {
   "cell_type": "markdown",
   "metadata": {},
   "source": [
    "## 6. Sử dụng model tốt nhất để dự đoán tập Test"
   ]
  },
  {
   "cell_type": "code",
   "execution_count": 116,
   "metadata": {
    "tags": []
   },
   "outputs": [],
   "source": [
    "svc_model = SVC(C=10, gamma='scale', kernel='rbf', probability=True)\n"
   ]
  },
  {
   "cell_type": "code",
   "execution_count": 117,
   "metadata": {
    "tags": []
   },
   "outputs": [
    {
     "name": "stdout",
     "output_type": "stream",
     "text": [
      "Total running time:  15.55  s\n"
     ]
    }
   ],
   "source": [
    "start_time = timeit.default_timer()\n",
    "\n",
    "svc_model.fit(X_train_tfidf,y_train)\n",
    "\n",
    "end_time = timeit.default_timer()\n",
    "execution_time = round(end_time - start_time,2)\n",
    "print('Total running time: ',execution_time,' s')"
   ]
  },
  {
   "cell_type": "code",
   "execution_count": 118,
   "metadata": {
    "tags": []
   },
   "outputs": [],
   "source": [
    "y_predict = svc_model.predict(X_test_tfidf)"
   ]
  },
  {
   "cell_type": "code",
   "execution_count": 119,
   "metadata": {
    "tags": []
   },
   "outputs": [
    {
     "name": "stdout",
     "output_type": "stream",
     "text": [
      "              precision    recall  f1-score   support\n",
      "\n",
      "           0     0.9952    0.9758    0.9854      3804\n",
      "           1     0.7728    0.9456    0.8505       331\n",
      "\n",
      "    accuracy                         0.9734      4135\n",
      "   macro avg     0.8840    0.9607    0.9180      4135\n",
      "weighted avg     0.9774    0.9734    0.9746      4135\n",
      "\n"
     ]
    }
   ],
   "source": [
    "from sklearn.metrics import classification_report as report\n",
    "print(report(y_predict,y_test,digits = 4))"
   ]
  },
  {
   "cell_type": "code",
   "execution_count": 120,
   "metadata": {
    "tags": []
   },
   "outputs": [
    {
     "data": {
      "image/png": "[encoded data removed]",
      "text/plain": [
       "<Figure size 600x500 with 2 Axes>"
      ]
     },
     "metadata": {},
     "output_type": "display_data"
    }
   ],
   "source": [
    "# Confusion Matrix\n",
    "cm = confusion_matrix(y_test, y_predict)\n",
    "\n",
    "# Plot the confusion matrix\n",
    "plt.figure(figsize=(6, 5))\n",
    "sns.heatmap(cm, annot=True, fmt=\"d\", cmap=\"Blues\", xticklabels=svc_model.classes_, yticklabels=svc_model.classes_)\n",
    "plt.title('Confusion Matrix for SVC Model')\n",
    "plt.xlabel('Predicted Labels')\n",
    "plt.ylabel('True Labels')\n",
    "plt.show()"
   ]
  },
  {
   "cell_type": "code",
   "execution_count": null,
   "metadata": {},
   "outputs": [],
   "source": []
  }
 ],
 "metadata": {
  "kernelspec": {
   "display_name": "Python 3 (ipykernel)",
   "language": "python",
   "name": "python3"
  },
  "language_info": {
   "codemirror_mode": {
    "name": "ipython",
    "version": 3
   },
   "file_extension": ".py",
   "mimetype": "text/x-python",
   "name": "python",
   "nbconvert_exporter": "python",
   "pygments_lexer": "ipython3",
   "version": "3.12.7"
  },
  "vscode": {
   "interpreter": {
    "hash": "3c040059c337deb504f19c673fdcf9a2751b584394b1f9883eb09580a791bf0c"
   }
  }
 },
 "nbformat": 4,
 "nbformat_minor": 4
}
